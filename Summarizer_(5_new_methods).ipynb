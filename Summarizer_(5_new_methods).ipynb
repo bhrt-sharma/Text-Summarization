{
 "cells": [
  {
   "cell_type": "code",
   "execution_count": 10,
   "metadata": {},
   "outputs": [],
   "source": [
    "# pip install git+https://github.com/miso-belica/sumy.git"
   ]
  },
  {
   "cell_type": "code",
   "execution_count": 2,
   "metadata": {},
   "outputs": [],
   "source": [
    "text = \"\"\"Life is beautiful, but not always. It has lots of problems you have to face everyday. Don't worry though! All these problems make you strong, it gives you courage to stand alone in future. Life is full of moments of joy, pleasure, success and comfort punctuated by misery, defeat, failures and problems. There is no human being on Earth, strong, powerful, wise or rich, who has not experienced, struggle, suffering or failure. You have to work hard to reach to the highest position. Life is full of paths, you just have to choose the right one. Life is interesting and amazing like the stars up in the skies.\n",
    "\n",
    "With no doubt, Life is beautiful and full of celebrations. However you should always be ready to face adversity and challenges. There are difficult situations in life as well.Be careful!! You might get hurt too hard. Life is sometimes too selfish to think about yourself. Then life is too hard to handle. Falling in love! People tend to fall in love nowadays but i personally think the right time has to come... You might also get hurt in Love. You might be broken-hearted as the people say.\n",
    "\n",
    "Life is the place where people treat everyone differently, racism exists as well as bullying. People tend to say bad stuff behind people's back. There are millions of people using horrible words to call people, People use people everyday. Life is not that easy in my view. Sometimes, all you want to do is sit alone and question yourself with hundred of questions\"\"\""
   ]
  },
  {
   "cell_type": "code",
   "execution_count": 12,
   "metadata": {},
   "outputs": [],
   "source": [
    "from gensim.summarization import summarize\n",
    "from sumy.utils import get_stop_words\n",
    "from sumy.nlp.stemmers import Stemmer\n",
    "from sumy.parsers.plaintext import PlaintextParser\n",
    "from sumy.nlp.tokenizers import Tokenizer as sumytoken"
   ]
  },
  {
   "cell_type": "code",
   "execution_count": 13,
   "metadata": {},
   "outputs": [],
   "source": [
    "from sumy.summarizers.lex_rank import LexRankSummarizer\n",
    "\n",
    "from sumy.summarizers.lsa import LsaSummarizer as Summarizer\n",
    "\n",
    "from sumy.summarizers.luhn import LuhnSummarizer"
   ]
  },
  {
   "cell_type": "code",
   "execution_count": 14,
   "metadata": {},
   "outputs": [],
   "source": [
    "def gensim_summarizer(text):\n",
    "    return (summarize(text))"
   ]
  },
  {
   "cell_type": "code",
   "execution_count": 15,
   "metadata": {},
   "outputs": [],
   "source": [
    "def lexrank_summarizer(text, stemmer, LANGUAGE, SENTENCES_COUNT):\n",
    "    parser = PlaintextParser.from_string((text), sumytoken(LANGUAGE))\n",
    "    summarizer_LexRank = LexRankSummarizer(stemmer)\n",
    "    summarizer_LexRank.stop_words = get_stop_words(LANGUAGE)\n",
    "    sentences = []\n",
    "    for sentence in summarizer_LexRank(parser.document, SENTENCES_COUNT):\n",
    "        a = sentence\n",
    "        sentences.append(str(a))\n",
    "    return \" \".join(sentences)"
   ]
  },
  {
   "cell_type": "code",
   "execution_count": 16,
   "metadata": {},
   "outputs": [],
   "source": [
    "def lsa_summarizer(text, stemmer, LANGUAGE, SENTENCES_COUNT):\n",
    "    parser = PlaintextParser.from_string((text), sumytoken(LANGUAGE))\n",
    "    summarizer_lsa = Summarizer(stemmer)\n",
    "    summarizer_lsa.stop_words = get_stop_words(LANGUAGE)\n",
    "    sentences = []\n",
    "    for sentence in summarizer_lsa(parser.document, SENTENCES_COUNT):\n",
    "        a = sentence\n",
    "        sentences.append(str(a))\n",
    "    return \" \".join(sentences)"
   ]
  },
  {
   "cell_type": "code",
   "execution_count": 17,
   "metadata": {},
   "outputs": [],
   "source": [
    "def luhn_summarizer(text, stemmer, LANGUAGE, SENTENCES_COUNT):\n",
    "    parser = PlaintextParser.from_string(text, sumytoken(LANGUAGE))\n",
    "    summarizer_luhn = LuhnSummarizer(stemmer)\n",
    "    summarizer_luhn.stop_words = get_stop_words(LANGUAGE)\n",
    "    sentences = []\n",
    "    for sentence in summarizer_luhn(parser.document, SENTENCES_COUNT):\n",
    "        a = sentence\n",
    "        sentences.append(str(a))\n",
    "    return \" \".join(sentences)"
   ]
  },
  {
   "cell_type": "code",
   "execution_count": 18,
   "metadata": {},
   "outputs": [],
   "source": [
    "LANGUAGE = \"english\"\n",
    "text_list  = text.split('.')\n",
    "SENTENCES_COUNT = len(text_list)/2\n",
    "stemmer = Stemmer(LANGUAGE)"
   ]
  },
  {
   "cell_type": "code",
   "execution_count": 19,
   "metadata": {},
   "outputs": [],
   "source": [
    "# gensim_summary = gensim_summarizer.gensim_summarizer(text)\n",
    "gensim_summary = gensim_summarizer(text)"
   ]
  },
  {
   "cell_type": "code",
   "execution_count": 20,
   "metadata": {},
   "outputs": [],
   "source": [
    "# lexrank_summary = sumy_Lex_summarize.lexrank_summarizer(text, stemmer, LANGUAGE, SENTENCES_COUNT)\n",
    "lexrank_summary = lexrank_summarizer(text, stemmer, LANGUAGE, SENTENCES_COUNT)"
   ]
  },
  {
   "cell_type": "code",
   "execution_count": 21,
   "metadata": {},
   "outputs": [],
   "source": [
    "# lsa_summary = sumy_LsaSummarizer_summarizer.lsa_summarizer(text, stemmer, LANGUAGE, SENTENCES_COUNT)\n",
    "lsa_summary = lsa_summarizer(text, stemmer, LANGUAGE, SENTENCES_COUNT)\n"
   ]
  },
  {
   "cell_type": "code",
   "execution_count": 22,
   "metadata": {},
   "outputs": [],
   "source": [
    "# luhn_summary = sumy_Luhn_summarize.luhn_summarizer(text, stemmer, LANGUAGE, SENTENCES_COUNT)\n",
    "luhn_summary = luhn_summarizer(text, stemmer, LANGUAGE, SENTENCES_COUNT)\n"
   ]
  },
  {
   "cell_type": "code",
   "execution_count": 23,
   "metadata": {},
   "outputs": [
    {
     "name": "stdout",
     "output_type": "stream",
     "text": [
      "\n",
      " ===GENSIM===\n",
      " It has lots of problems you have to face everyday.\n",
      "Life is full of moments of joy, pleasure, success and comfort punctuated by misery, defeat, failures and problems.\n",
      "Then life is too hard to handle.\n",
      "People tend to fall in love nowadays but i personally think the right time has to come...\n",
      "\n",
      " ===Lexrank==\n",
      " It has lots of problems you have to face everyday. Don't worry though! There is no human being on Earth, strong, powerful, wise or rich, who has not experienced, struggle, suffering or failure. Life is interesting and amazing like the stars up in the skies. With no doubt, Life is beautiful and full of celebrations. There are difficult situations in life as well.Be careful!! You might get hurt too hard. Life is sometimes too selfish to think about yourself. People tend to fall in love nowadays but i personally think the right time has to come... You might also get hurt in Love. People tend to say bad stuff behind people's back. There are millions of people using horrible words to call people, People use people everyday. Life is not that easy in my view.\n",
      "\n",
      " ===LSA==\n",
      " It has lots of problems you have to face everyday. All these problems make you strong, it gives you courage to stand alone in future. Life is full of moments of joy, pleasure, success and comfort punctuated by misery, defeat, failures and problems. There is no human being on Earth, strong, powerful, wise or rich, who has not experienced, struggle, suffering or failure. You have to work hard to reach to the highest position. Life is full of paths, you just have to choose the right one. Life is interesting and amazing like the stars up in the skies. With no doubt, Life is beautiful and full of celebrations. However you should always be ready to face adversity and challenges. There are difficult situations in life as well.Be careful!! People tend to fall in love nowadays but i personally think the right time has to come... You might also get hurt in Love. Life is the place where people treat everyone differently, racism exists as well as bullying.\n",
      "\n",
      " ===luhn==\n",
      " Life is beautiful, but not always. It has lots of problems you have to face everyday. All these problems make you strong, it gives you courage to stand alone in future. Life is full of moments of joy, pleasure, success and comfort punctuated by misery, defeat, failures and problems. Life is full of paths, you just have to choose the right one. With no doubt, Life is beautiful and full of celebrations. You might get hurt too hard. Then life is too hard to handle. Falling in love! People tend to fall in love nowadays but i personally think the right time has to come... You might also get hurt in Love. People tend to say bad stuff behind people's back. There are millions of people using horrible words to call people, People use people everyday.\n"
     ]
    }
   ],
   "source": [
    "print (\"\\n ===GENSIM===\\n\",gensim_summary)\n",
    "print (\"\\n ===Lexrank==\\n\",lexrank_summary)\n",
    "print (\"\\n ===LSA==\\n\",lsa_summary)\n",
    "print (\"\\n ===luhn==\\n\",luhn_summary)"
   ]
  },
  {
   "cell_type": "code",
   "execution_count": null,
   "metadata": {},
   "outputs": [],
   "source": []
  }
 ],
 "metadata": {
  "kernelspec": {
   "display_name": "Python 3",
   "language": "python",
   "name": "python3"
  },
  "language_info": {
   "codemirror_mode": {
    "name": "ipython",
    "version": 3
   },
   "file_extension": ".py",
   "mimetype": "text/x-python",
   "name": "python",
   "nbconvert_exporter": "python",
   "pygments_lexer": "ipython3",
   "version": "3.6.9"
  }
 },
 "nbformat": 4,
 "nbformat_minor": 4
}
